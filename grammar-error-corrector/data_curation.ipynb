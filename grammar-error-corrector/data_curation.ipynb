{
 "cells": [
  {
   "attachments": {},
   "cell_type": "markdown",
   "metadata": {},
   "source": [
    "## Data Curation Example: Newer Accounts\n",
    "\n",
    "This notebook is designed to demonstrate how to use Gantry to seamlessly transform the production data that is flowing into Gantry into training sets. The goal of datasets and curators is to allow users to tell Gantry _what_ they want, something that requires judgment and domain expertise, and let Gantry take care of the _how_. That includes all the messiness of managing reliable jobs that trans production streams into versioned datasets."
   ]
  },
  {
   "cell_type": "code",
   "execution_count": null,
   "metadata": {
    "tags": []
   },
   "outputs": [],
   "source": [
    "from config import GantryConfig, DataStorageConfig\n",
    "import gantry\n",
    "import datetime\n",
    "import random"
   ]
  },
  {
   "cell_type": "code",
   "execution_count": null,
   "metadata": {
    "tags": []
   },
   "outputs": [],
   "source": [
    "gantry.init(api_key=GantryConfig.GANTRY_API_KEY)\n",
    "\n",
    "assert gantry.ping()"
   ]
  },
  {
   "cell_type": "code",
   "execution_count": null,
   "metadata": {},
   "outputs": [],
   "source": [
    "from gantry.automations.curators import BoundedRangeCurator\n",
    "from gantry.automations.triggers import IntervalTrigger\n",
    "from gantry.automations import Automation\n",
    "application = gantry.get_application(GantryConfig.GANTRY_APP_NAME)\n",
    "new_accounts_curator_name = f\"{GantryConfig.GANTRY_APP_NAME}-new-account-curator-{str(random.randrange(0, 10000001))}\"\n",
    "interval_trigger = IntervalTrigger(start_on = DataStorageConfig.MIN_DATE, interval = datetime.timedelta(days=1))\n",
    "\n",
    "new_accounts_curator = BoundedRangeCurator(\n",
    "    application_name=application._name,\n",
    "    name=new_accounts_curator_name,\n",
    "    limit=1000,\n",
    "    bound_field=\"inputs.account_age_days\",\n",
    "    lower_bound=0,\n",
    "    upper_bound=7,\n",
    ")\n",
    "curator_automation = Automation(name=\"curator-automation\", trigger=interval_trigger, action=new_accounts_curator)\n",
    "application.add_automation(curator_automation)"
   ]
  },
  {
   "attachments": {},
   "cell_type": "markdown",
   "metadata": {},
   "source": [
    "A few things to note here:\n",
    "- We provide the application name to tie this curator to the associated application\n",
    "- We use `GantryConfig` and `DataStorageConfig` to grab some configurations, like the earliest timestamp of the data which will trigger Gantry to backfill all of the intervals between that date and now\n",
    "- We use the `BoundedRangeCurator` because it makes it easy to specify a curator according the bounds on a field, namely `account_age_days`\n",
    "- We choose the, somewhat arbitrary, limit of 1000 records to represent our daily labeling budget\n",
    "\n",
    "This curator tells Gantry how to marshall your data into versions in a **dataset**.\n",
    "\n",
    "The following code will do two things for us:\n",
    "1. Grab the dataset that our curator populating.\n",
    "2. List the versions in the dataset. Each version represents a historical interval (in this case day) of data. Listing the versions makes the relationship between curators and datasets explicit: as curator jobs run, one for each interval, they create versions of a dataset. The versions contain metadata about what fraction of the specified limit is being met, as you can see below in the format: `x records added from interval of size y`"
   ]
  },
  {
   "cell_type": "code",
   "execution_count": null,
   "metadata": {},
   "outputs": [],
   "source": [
    "dataset = new_accounts_curator.get_curated_dataset()\n",
    "dataset.list_versions()"
   ]
  },
  {
   "attachments": {},
   "cell_type": "markdown",
   "metadata": {},
   "source": [
    "If the output says initial commit, it hasn't pulled any data. The output should reference records pulled. Wait a bit for the curator job to finish running and try pulling again\n",
    "\n",
    "\n",
    "Now that we have seen how curators can make it easy to tell Gantry what data you want to gather, and let Gantry take care of gathering it, let's dive into datasets.\n",
    "\n",
    "### Datasets\n",
    "Gantry datasets are a lightweight container for your data with simple versioning semantics that aim to make it straightforward to build more robust ML pipelines. Versioning is at the file level, and centers on two operations: `push` and `pull`. Curators `push` data to Gantry Datasets. Users `pull` data from them to analyze, label, or train on. Users can also make local modifications to datasets, and `push` them back. All `push` operations create a new version, and each version is written to underlying S3 storage. You can read about datasets in more detail in the [Datasets guide](https://docs.gantry.io/docs/datasets).\n",
    "\n",
    "Let's pull the latest version of the dataset from our curator:"
   ]
  },
  {
   "cell_type": "code",
   "execution_count": null,
   "metadata": {},
   "outputs": [],
   "source": [
    "dataset.pull()"
   ]
  },
  {
   "attachments": {},
   "cell_type": "markdown",
   "metadata": {},
   "source": [
    "Gantry datasets can be loaded them directly into HuggingFace Datasets, which can in turn be turned into Pandas DataFrame objects. All the type mappings are handled by the integration:"
   ]
  },
  {
   "cell_type": "code",
   "execution_count": null,
   "metadata": {},
   "outputs": [],
   "source": [
    "hfds = dataset.get_huggingface_dataset()\n",
    "df = hfds.to_pandas()"
   ]
  },
  {
   "cell_type": "code",
   "execution_count": null,
   "metadata": {},
   "outputs": [],
   "source": [
    "df"
   ]
  },
  {
   "attachments": {},
   "cell_type": "markdown",
   "metadata": {},
   "source": [
    "We can now analyze, train on, or label this dataset. If we want to do manual data manipulation, we can modify it and push a new version back to Gantry."
   ]
  }
 ],
 "metadata": {
  "kernelspec": {
   "display_name": "Python 3 (ipykernel)",
   "language": "python",
   "name": "python3"
  },
  "language_info": {
   "codemirror_mode": {
    "name": "ipython",
    "version": 3
   },
   "file_extension": ".py",
   "mimetype": "text/x-python",
   "name": "python",
   "nbconvert_exporter": "python",
   "pygments_lexer": "ipython3",
   "version": "3.10.10"
  },
  "vscode": {
   "interpreter": {
    "hash": "a3df6fd0f7e696005f34938b19f6cb395601341b0ef69ce9e9b6aaa77428e11a"
   }
  }
 },
 "nbformat": 4,
 "nbformat_minor": 4
}
