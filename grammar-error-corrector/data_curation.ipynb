{
 "cells": [
  {
   "attachments": {},
   "cell_type": "markdown",
   "metadata": {},
   "source": [
    "# Background\n",
    "\n",
    "This notebook is designed to demonstrate how to use Gantry to seamlessly transform the production data that is flowing into Gantry into training sets. The goal of datasets and curators is to allow users to tell Gantry _what_ they want, something that requires judgment and domain expertise, and let Gantry take care of the _how_. That includes all the messiness of managing reliable jobs that trans production streams into versioned datasets."
   ]
  },
  {
   "cell_type": "code",
   "execution_count": null,
   "metadata": {},
   "outputs": [],
   "source": [
    "from config import GantryConfig, DataStorageConfig\n",
    "import gantry\n",
    "import datetime"
   ]
  },
  {
   "cell_type": "code",
   "execution_count": null,
   "metadata": {},
   "outputs": [],
   "source": [
    "gantry.init(api_key=GantryConfig.GANTRY_API_KEY)\n",
    "\n",
    "assert gantry.ping()"
   ]
  },
  {
   "cell_type": "code",
   "execution_count": null,
   "metadata": {},
   "outputs": [],
   "source": [
    "from gantry.curators import BoundedRangeCurator\n",
    "\n",
    "new_accounts_curator = BoundedRangeCurator(\n",
    "    name=f\"{GantryConfig.GANTRY_APP_NAME}-new-accounts-curator\",\n",
    "    application_name=GantryConfig.GANTRY_APP_NAME,\n",
    "    limit=1000,\n",
    "    bound_field=\"inputs.account_age_days\",\n",
    "    lower_bound=0,\n",
    "    upper_bound=5,\n",
    "\n",
    ")\n",
    "\n",
    "new_accounts_curator.create()"
   ]
  },
  {
   "cell_type": "code",
   "execution_count": null,
   "metadata": {},
   "outputs": [],
   "source": [
    "for curator in gantry.curators.get_all_curators(GantryConfig.GANTRY_APP_NAME):\n",
    "    print(curator.name)"
   ]
  },
  {
   "cell_type": "code",
   "execution_count": null,
   "metadata": {},
   "outputs": [],
   "source": [
    "curator = gantry.curators.get_all_curators(GantryConfig.GANTRY_APP_NAME)[0]"
   ]
  },
  {
   "cell_type": "code",
   "execution_count": null,
   "metadata": {},
   "outputs": [],
   "source": [
    "dataset = curator.get_curated_dataset()"
   ]
  },
  {
   "cell_type": "code",
   "execution_count": null,
   "metadata": {},
   "outputs": [],
   "source": [
    "dataset.list_versions()"
   ]
  },
  {
   "cell_type": "code",
   "execution_count": null,
   "metadata": {},
   "outputs": [],
   "source": [
    "dataset.pull()"
   ]
  },
  {
   "cell_type": "code",
   "execution_count": null,
   "metadata": {},
   "outputs": [],
   "source": [
    "hfds = dataset.get_huggingface_dataset()\n",
    "df = hfds[\"train\"].to_pandas()"
   ]
  },
  {
   "cell_type": "code",
   "execution_count": null,
   "metadata": {},
   "outputs": [],
   "source": []
  }
 ],
 "metadata": {
  "kernelspec": {
   "display_name": "venv",
   "language": "python",
   "name": "python3"
  },
  "language_info": {
   "codemirror_mode": {
    "name": "ipython",
    "version": 3
   },
   "file_extension": ".py",
   "mimetype": "text/x-python",
   "name": "python",
   "nbconvert_exporter": "python",
   "pygments_lexer": "ipython3",
   "version": "3.9.12"
  },
  "orig_nbformat": 4,
  "vscode": {
   "interpreter": {
    "hash": "a3df6fd0f7e696005f34938b19f6cb395601341b0ef69ce9e9b6aaa77428e11a"
   }
  }
 },
 "nbformat": 4,
 "nbformat_minor": 2
}
