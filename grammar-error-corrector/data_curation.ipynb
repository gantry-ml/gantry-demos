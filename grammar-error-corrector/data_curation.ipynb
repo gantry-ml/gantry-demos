{
 "cells": [
  {
   "attachments": {},
   "cell_type": "markdown",
   "metadata": {},
   "source": [
    "# Background\n",
    "\n",
    "This notebook is designed to demonstrate how to use Gantry to seamlessly transform "
   ]
  },
  {
   "cell_type": "code",
   "execution_count": 1,
   "metadata": {},
   "outputs": [
    {
     "name": "stderr",
     "output_type": "stream",
     "text": [
      "/Users/oscarbatori/Documents/gantry-intro-tutorial/venv/lib/python3.9/site-packages/tqdm/auto.py:22: TqdmWarning: IProgress not found. Please update jupyter and ipywidgets. See https://ipywidgets.readthedocs.io/en/stable/user_install.html\n",
      "  from .autonotebook import tqdm as notebook_tqdm\n"
     ]
    }
   ],
   "source": [
    "from config import GantryConfig\n",
    "import gantry"
   ]
  },
  {
   "cell_type": "code",
   "execution_count": 3,
   "metadata": {},
   "outputs": [
    {
     "name": "stdout",
     "output_type": "stream",
     "text": [
      "2023-01-25 19:54:24,780 gantry.logger.stores ERROR    Error during api key check: Authentication error. Ensure that you supplied a working API key by calling gantry.ready(). (Status code: 401)\n",
      "2023-01-25 19:54:24,781 gantry.logger.main WARNING  Gantry services won't receive traffic. Check if API Key is valid\n",
      "2023-01-25 19:54:25,012 gantry.dataset.client ERROR    Error during api key check: Authentication error. Ensure that you supplied a working API key by calling gantry.ready(). (Status code: 401)\n",
      "2023-01-25 19:54:25,014 gantry.dataset.main WARNING  Gantry services won't receive traffic. Check if API Key is valid\n"
     ]
    }
   ],
   "source": [
    "gantry.init(\n",
    "    api_key=GantryConfig.GANTRY_API_KEY,\n",
    "    email=\"test@gantry.dev\",\n",
    ")\n",
    "\n",
    "assert gantry.ping()"
   ]
  },
  {
   "cell_type": "code",
   "execution_count": null,
   "metadata": {},
   "outputs": [],
   "source": [
    "from gantry.curators import BalancedStratificationCurator\n",
    "\n",
    "bsc = BalancedStratificationCurator(\n",
    "    name = \"\",\n",
    "    application_name = \"\",\n",
    "    stratify_on = \"\",\n",
    "    limit = 10000, \n",
    ")\n",
    "\n",
    "bsc.create()"
   ]
  },
  {
   "cell_type": "code",
   "execution_count": 4,
   "metadata": {},
   "outputs": [
    {
     "data": {
      "text/plain": [
       "'Jji45UcKkXuOOw3JXbRRb2jvF_E'"
      ]
     },
     "execution_count": 4,
     "metadata": {},
     "output_type": "execute_result"
    }
   ],
   "source": [
    "GantryConfig.GANTRY_API_KEY"
   ]
  }
 ],
 "metadata": {
  "kernelspec": {
   "display_name": "venv",
   "language": "python",
   "name": "python3"
  },
  "language_info": {
   "codemirror_mode": {
    "name": "ipython",
    "version": 3
   },
   "file_extension": ".py",
   "mimetype": "text/x-python",
   "name": "python",
   "nbconvert_exporter": "python",
   "pygments_lexer": "ipython3",
   "version": "3.9.12"
  },
  "orig_nbformat": 4,
  "vscode": {
   "interpreter": {
    "hash": "a3df6fd0f7e696005f34938b19f6cb395601341b0ef69ce9e9b6aaa77428e11a"
   }
  }
 },
 "nbformat": 4,
 "nbformat_minor": 2
}
