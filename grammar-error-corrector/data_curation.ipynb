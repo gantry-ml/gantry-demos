{
 "cells": [
  {
   "cell_type": "markdown",
   "metadata": {},
   "source": [
    "## Data Curation Example: Newer Accounts\n",
    "\n",
    "This notebook is designed to demonstrate how to use Gantry to seamlessly transform the production data that is flowing into Gantry into training sets. The goal of datasets and curators is to allow users to tell Gantry _what_ they want, something that requires judgment and domain expertise, and let Gantry take care of the _how_. That includes all the messiness of managing reliable jobs that trans production streams into versioned datasets."
   ]
  },
  {
   "cell_type": "code",
   "execution_count": null,
   "metadata": {
    "tags": []
   },
   "outputs": [],
   "source": [
    "%load_ext lab_black\n",
    "\n",
    "from config import GantryConfig, DataStorageConfig\n",
    "import gantry\n",
    "import datetime\n",
    "import random"
   ]
  },
  {
   "cell_type": "code",
   "execution_count": null,
   "metadata": {
    "tags": []
   },
   "outputs": [],
   "source": [
    "gantry.init(api_key=GantryConfig.GANTRY_API_KEY)\n",
    "\n",
    "assert gantry.ping()"
   ]
  },
  {
   "cell_type": "code",
   "execution_count": 7,
   "metadata": {
    "tags": []
   },
   "outputs": [
    {
     "data": {
      "text/plain": [
       "Curator(name='casey-gec-test-new-account-curator-7346948', curated_dataset_name='casey-gec-test-new-account-curator-7346948', application_name='casey-gec-test', start_on=2022-03-30 00:00:00+00:00, curation_interval=1 day, 0:00:00, curate_past_intervals=True, selectors=[Selector(method=OrderedSampler(sample=<SamplingMethod.ordered: 'ordered'>, field='inputs.account_age_days', sort=<DruidDimensionOrderingDirections.ASCENDING: 'ascending'>), limit=1000, filters=[BoundsFilter(field='inputs.account_age_days', upper=7.0, inclusive_upper=None, lower=0.0, inclusive_lower=None)], tags=[])])"
      ]
     },
     "execution_count": 7,
     "metadata": {},
     "output_type": "execute_result"
    }
   ],
   "source": [
    "from gantry.curators import BoundedRangeCurator\n",
    "\n",
    "new_accounts_curator_name = f\"{GantryConfig.GANTRY_APP_NAME}-new-account-curator-{str(random.randrange(0, 10000001))}\"\n",
    "\n",
    "new_accounts_curator = BoundedRangeCurator(\n",
    "    name=new_accounts_curator_name,\n",
    "    application_name=GantryConfig.GANTRY_APP_NAME,\n",
    "    limit=1000,\n",
    "    bound_field=\"inputs.account_age_days\",\n",
    "    lower_bound=0,\n",
    "    upper_bound=7,\n",
    "    start_on=DataStorageConfig.MIN_DATE,\n",
    "    curation_interval=datetime.timedelta(days=1),\n",
    ")\n",
    "\n",
    "new_accounts_curator.create()"
   ]
  },
  {
   "attachments": {},
   "cell_type": "markdown",
   "metadata": {},
   "source": [
    "A few things to note here:\n",
    "- We provide the application name to tie this curator to the associated application\n",
    "- We use `GantryConfig` and `DataStorageConfig` to grab some configurations, like the earliest timestamp of the data which will trigger Gantry to backfill all of the intervals between that date and now\n",
    "- We use the `BoundedRangeCurator` because it makes it easy to specify a curator according the bounds on a field, namely `account_age_days`\n",
    "- We choose the, somewhat arbitrary, limit of 1000 records to represent our daily labeling budget\n",
    "\n",
    "This curator tells Gantry how to marshall your data into versions in a **dataset**.\n",
    "\n",
    "The following code will do two things for us:\n",
    "1. Grab the dataset that our curator populating.\n",
    "2. List the versions in the dataset. Each version represents a historical interval (in this case day) of data. Listing the versions makes the relationship between curators and datasets explicit: as curator jobs run, one for each interval, they create versions of a dataset. The versions contain metadata about what fraction of the specified limit is being met, as you can see below in the format: `x records added from interval of size y`"
   ]
  },
  {
   "cell_type": "code",
   "execution_count": 9,
   "metadata": {
    "tags": []
   },
   "outputs": [
    {
     "data": {
      "text/plain": [
       "[{'version_id': 'eeecaae4-ef2a-4a6a-bc1d-751da986f478',\n",
       "  'dataset': 'casey-gec-test-new-account-curator-7346948',\n",
       "  'message': 'Added Gantry data from model casey-gec-test from start time 2022-04-30T00:00:00 to end time 2022-05-01T00:00:00 - 68 records added from interval of size 1479. Commit automatically created by curator.',\n",
       "  'created_at': 'Mon, 06 Mar 2023 18:12:40 GMT',\n",
       "  'created_by': '844c1123-7615-40e1-9eaa-d8f41c6f8572',\n",
       "  'is_latest_version': True},\n",
       " {'version_id': 'd3130d50-8373-48c0-94ca-e36c6542c342',\n",
       "  'dataset': 'casey-gec-test-new-account-curator-7346948',\n",
       "  'message': 'Added Gantry data from model casey-gec-test from start time 2022-04-29T00:00:00 to end time 2022-04-30T00:00:00 - 161 records added from interval of size 1242. Commit automatically created by curator.',\n",
       "  'created_at': 'Mon, 06 Mar 2023 18:12:39 GMT',\n",
       "  'created_by': '844c1123-7615-40e1-9eaa-d8f41c6f8572',\n",
       "  'is_latest_version': False},\n",
       " {'version_id': 'fd8b9c85-bd75-4370-9e5a-23e51bc69c9d',\n",
       "  'dataset': 'casey-gec-test-new-account-curator-7346948',\n",
       "  'message': 'Added Gantry data from model casey-gec-test from start time 2022-04-28T00:00:00 to end time 2022-04-29T00:00:00 - 380 records added from interval of size 1381. Commit automatically created by curator.',\n",
       "  'created_at': 'Mon, 06 Mar 2023 18:12:38 GMT',\n",
       "  'created_by': '844c1123-7615-40e1-9eaa-d8f41c6f8572',\n",
       "  'is_latest_version': False},\n",
       " {'version_id': '9377dcc3-d7c4-470a-b8d0-da0d83d00629',\n",
       "  'dataset': 'casey-gec-test-new-account-curator-7346948',\n",
       "  'message': 'Added Gantry data from model casey-gec-test from start time 2022-04-27T00:00:00 to end time 2022-04-28T00:00:00 - 446 records added from interval of size 2708. Commit automatically created by curator.',\n",
       "  'created_at': 'Mon, 06 Mar 2023 18:12:37 GMT',\n",
       "  'created_by': '844c1123-7615-40e1-9eaa-d8f41c6f8572',\n",
       "  'is_latest_version': False},\n",
       " {'version_id': '9ed5ea1c-2359-443a-8a70-cb41e108bec5',\n",
       "  'dataset': 'casey-gec-test-new-account-curator-7346948',\n",
       "  'message': 'Added Gantry data from model casey-gec-test from start time 2022-04-26T00:00:00 to end time 2022-04-27T00:00:00 - 311 records added from interval of size 1556. Commit automatically created by curator.',\n",
       "  'created_at': 'Mon, 06 Mar 2023 18:12:36 GMT',\n",
       "  'created_by': '844c1123-7615-40e1-9eaa-d8f41c6f8572',\n",
       "  'is_latest_version': False},\n",
       " {'version_id': 'c0676af3-fad7-4fc5-91fb-5b4bc95c5e30',\n",
       "  'dataset': 'casey-gec-test-new-account-curator-7346948',\n",
       "  'message': 'Added Gantry data from model casey-gec-test from start time 2022-04-25T00:00:00 to end time 2022-04-26T00:00:00 - 1000 records added from interval of size 7568. Commit automatically created by curator.',\n",
       "  'created_at': 'Mon, 06 Mar 2023 18:12:36 GMT',\n",
       "  'created_by': '844c1123-7615-40e1-9eaa-d8f41c6f8572',\n",
       "  'is_latest_version': False},\n",
       " {'version_id': '72e8e2b3-f259-4902-b709-008f879c8e48',\n",
       "  'dataset': 'casey-gec-test-new-account-curator-7346948',\n",
       "  'message': 'Added Gantry data from model casey-gec-test from start time 2022-04-24T00:00:00 to end time 2022-04-25T00:00:00 - 1000 records added from interval of size 11655. Commit automatically created by curator.',\n",
       "  'created_at': 'Mon, 06 Mar 2023 18:12:35 GMT',\n",
       "  'created_by': '844c1123-7615-40e1-9eaa-d8f41c6f8572',\n",
       "  'is_latest_version': False},\n",
       " {'version_id': '9f6c2f80-4593-4eac-9193-e962c10aa28c',\n",
       "  'dataset': 'casey-gec-test-new-account-curator-7346948',\n",
       "  'message': 'Added Gantry data from model casey-gec-test from start time 2022-04-23T00:00:00 to end time 2022-04-24T00:00:00 - 1000 records added from interval of size 7373. Commit automatically created by curator.',\n",
       "  'created_at': 'Mon, 06 Mar 2023 18:12:34 GMT',\n",
       "  'created_by': '844c1123-7615-40e1-9eaa-d8f41c6f8572',\n",
       "  'is_latest_version': False},\n",
       " {'version_id': '5027ee76-9564-4305-8d82-9623852f4003',\n",
       "  'dataset': 'casey-gec-test-new-account-curator-7346948',\n",
       "  'message': 'Added Gantry data from model casey-gec-test from start time 2022-04-22T00:00:00 to end time 2022-04-23T00:00:00 - 478 records added from interval of size 2775. Commit automatically created by curator.',\n",
       "  'created_at': 'Mon, 06 Mar 2023 18:12:33 GMT',\n",
       "  'created_by': '844c1123-7615-40e1-9eaa-d8f41c6f8572',\n",
       "  'is_latest_version': False},\n",
       " {'version_id': '1fb0a137-a4d1-4093-a45a-9557dd4cce6c',\n",
       "  'dataset': 'casey-gec-test-new-account-curator-7346948',\n",
       "  'message': 'Added Gantry data from model casey-gec-test from start time 2022-04-21T00:00:00 to end time 2022-04-22T00:00:00 - 302 records added from interval of size 2480. Commit automatically created by curator.',\n",
       "  'created_at': 'Mon, 06 Mar 2023 18:12:33 GMT',\n",
       "  'created_by': '844c1123-7615-40e1-9eaa-d8f41c6f8572',\n",
       "  'is_latest_version': False},\n",
       " {'version_id': '8e934add-6429-4092-9916-243bcc869dc1',\n",
       "  'dataset': 'casey-gec-test-new-account-curator-7346948',\n",
       "  'message': 'Added Gantry data from model casey-gec-test from start time 2022-04-20T00:00:00 to end time 2022-04-21T00:00:00 - 872 records added from interval of size 7461. Commit automatically created by curator.',\n",
       "  'created_at': 'Mon, 06 Mar 2023 18:12:32 GMT',\n",
       "  'created_by': '844c1123-7615-40e1-9eaa-d8f41c6f8572',\n",
       "  'is_latest_version': False},\n",
       " {'version_id': 'dfb94ee2-314b-4f58-bbd2-e3c03805022e',\n",
       "  'dataset': 'casey-gec-test-new-account-curator-7346948',\n",
       "  'message': 'Added Gantry data from model casey-gec-test from start time 2022-04-19T00:00:00 to end time 2022-04-20T00:00:00 - 530 records added from interval of size 5864. Commit automatically created by curator.',\n",
       "  'created_at': 'Mon, 06 Mar 2023 18:12:31 GMT',\n",
       "  'created_by': '844c1123-7615-40e1-9eaa-d8f41c6f8572',\n",
       "  'is_latest_version': False},\n",
       " {'version_id': '9777a52b-0ba8-4ebf-b5f2-5f8a662e05d3',\n",
       "  'dataset': 'casey-gec-test-new-account-curator-7346948',\n",
       "  'message': 'Added Gantry data from model casey-gec-test from start time 2022-04-18T00:00:00 to end time 2022-04-19T00:00:00 - 140 records added from interval of size 3650. Commit automatically created by curator.',\n",
       "  'created_at': 'Mon, 06 Mar 2023 18:12:30 GMT',\n",
       "  'created_by': '844c1123-7615-40e1-9eaa-d8f41c6f8572',\n",
       "  'is_latest_version': False},\n",
       " {'version_id': '8847c3f9-a6f0-4b2f-9252-944b4ab37c18',\n",
       "  'dataset': 'casey-gec-test-new-account-curator-7346948',\n",
       "  'message': 'Added Gantry data from model casey-gec-test from start time 2022-04-17T00:00:00 to end time 2022-04-18T00:00:00 - 163 records added from interval of size 1443. Commit automatically created by curator.',\n",
       "  'created_at': 'Mon, 06 Mar 2023 18:12:29 GMT',\n",
       "  'created_by': '844c1123-7615-40e1-9eaa-d8f41c6f8572',\n",
       "  'is_latest_version': False},\n",
       " {'version_id': 'a6511f41-c10a-4cea-b994-a07cbfd28e4b',\n",
       "  'dataset': 'casey-gec-test-new-account-curator-7346948',\n",
       "  'message': 'Added Gantry data from model casey-gec-test from start time 2022-04-16T00:00:00 to end time 2022-04-17T00:00:00 - 344 records added from interval of size 3015. Commit automatically created by curator.',\n",
       "  'created_at': 'Mon, 06 Mar 2023 18:12:28 GMT',\n",
       "  'created_by': '844c1123-7615-40e1-9eaa-d8f41c6f8572',\n",
       "  'is_latest_version': False},\n",
       " {'version_id': 'ce5d7d26-2881-4581-a4c7-8e3c10c06440',\n",
       "  'dataset': 'casey-gec-test-new-account-curator-7346948',\n",
       "  'message': 'Added Gantry data from model casey-gec-test from start time 2022-04-15T00:00:00 to end time 2022-04-16T00:00:00 - 493 records added from interval of size 4883. Commit automatically created by curator.',\n",
       "  'created_at': 'Mon, 06 Mar 2023 18:12:28 GMT',\n",
       "  'created_by': '844c1123-7615-40e1-9eaa-d8f41c6f8572',\n",
       "  'is_latest_version': False},\n",
       " {'version_id': 'a6ba00bf-898e-4240-b288-a49a9852ec7b',\n",
       "  'dataset': 'casey-gec-test-new-account-curator-7346948',\n",
       "  'message': 'Added Gantry data from model casey-gec-test from start time 2022-04-14T00:00:00 to end time 2022-04-15T00:00:00 - 334 records added from interval of size 3414. Commit automatically created by curator.',\n",
       "  'created_at': 'Mon, 06 Mar 2023 18:12:27 GMT',\n",
       "  'created_by': '844c1123-7615-40e1-9eaa-d8f41c6f8572',\n",
       "  'is_latest_version': False},\n",
       " {'version_id': '24423a9b-1108-47e8-9677-dfba52af991d',\n",
       "  'dataset': 'casey-gec-test-new-account-curator-7346948',\n",
       "  'message': 'Added Gantry data from model casey-gec-test from start time 2022-04-13T00:00:00 to end time 2022-04-14T00:00:00 - 295 records added from interval of size 3025. Commit automatically created by curator.',\n",
       "  'created_at': 'Mon, 06 Mar 2023 18:12:26 GMT',\n",
       "  'created_by': '844c1123-7615-40e1-9eaa-d8f41c6f8572',\n",
       "  'is_latest_version': False},\n",
       " {'version_id': '7f70de45-9ee9-4314-aa88-07b42bf61088',\n",
       "  'dataset': 'casey-gec-test-new-account-curator-7346948',\n",
       "  'message': 'Added Gantry data from model casey-gec-test from start time 2022-04-12T00:00:00 to end time 2022-04-13T00:00:00 - 334 records added from interval of size 2014. Commit automatically created by curator.',\n",
       "  'created_at': 'Mon, 06 Mar 2023 18:12:25 GMT',\n",
       "  'created_by': '844c1123-7615-40e1-9eaa-d8f41c6f8572',\n",
       "  'is_latest_version': False},\n",
       " {'version_id': '6b4f730a-fa9f-47ca-bba4-1026ec6028df',\n",
       "  'dataset': 'casey-gec-test-new-account-curator-7346948',\n",
       "  'message': 'Added Gantry data from model casey-gec-test from start time 2022-04-11T00:00:00 to end time 2022-04-12T00:00:00 - 311 records added from interval of size 1890. Commit automatically created by curator.',\n",
       "  'created_at': 'Mon, 06 Mar 2023 18:12:25 GMT',\n",
       "  'created_by': '844c1123-7615-40e1-9eaa-d8f41c6f8572',\n",
       "  'is_latest_version': False},\n",
       " {'version_id': '15bda151-396a-4217-bf6d-5d2dc68e64c2',\n",
       "  'dataset': 'casey-gec-test-new-account-curator-7346948',\n",
       "  'message': 'Added Gantry data from model casey-gec-test from start time 2022-04-10T00:00:00 to end time 2022-04-11T00:00:00 - 406 records added from interval of size 1331. Commit automatically created by curator.',\n",
       "  'created_at': 'Mon, 06 Mar 2023 18:12:24 GMT',\n",
       "  'created_by': '844c1123-7615-40e1-9eaa-d8f41c6f8572',\n",
       "  'is_latest_version': False},\n",
       " {'version_id': '4b8dab8e-0e66-4e96-90b3-d4454438cee3',\n",
       "  'dataset': 'casey-gec-test-new-account-curator-7346948',\n",
       "  'message': 'Added Gantry data from model casey-gec-test from start time 2022-04-09T00:00:00 to end time 2022-04-10T00:00:00 - 522 records added from interval of size 1079. Commit automatically created by curator.',\n",
       "  'created_at': 'Mon, 06 Mar 2023 18:12:23 GMT',\n",
       "  'created_by': '844c1123-7615-40e1-9eaa-d8f41c6f8572',\n",
       "  'is_latest_version': False},\n",
       " {'version_id': '4a364566-cdba-436e-9d42-72f409298f30',\n",
       "  'dataset': 'casey-gec-test-new-account-curator-7346948',\n",
       "  'message': 'Added Gantry data from model casey-gec-test from start time 2022-04-08T00:00:00 to end time 2022-04-09T00:00:00 - 330 records added from interval of size 771. Commit automatically created by curator.',\n",
       "  'created_at': 'Mon, 06 Mar 2023 18:12:22 GMT',\n",
       "  'created_by': '844c1123-7615-40e1-9eaa-d8f41c6f8572',\n",
       "  'is_latest_version': False},\n",
       " {'version_id': '9f7ac17d-bf5f-4026-9552-eed4603b80f0',\n",
       "  'dataset': 'casey-gec-test-new-account-curator-7346948',\n",
       "  'message': 'Added Gantry data from model casey-gec-test from start time 2022-04-07T00:00:00 to end time 2022-04-08T00:00:00 - 86 records added from interval of size 149. Commit automatically created by curator.',\n",
       "  'created_at': 'Mon, 06 Mar 2023 18:12:21 GMT',\n",
       "  'created_by': '844c1123-7615-40e1-9eaa-d8f41c6f8572',\n",
       "  'is_latest_version': False},\n",
       " {'version_id': '7f2836dd-03d2-479f-82e0-1ae96b9c3fe7',\n",
       "  'dataset': 'casey-gec-test-new-account-curator-7346948',\n",
       "  'message': 'Added Gantry data from model casey-gec-test from start time 2022-04-06T00:00:00 to end time 2022-04-07T00:00:00 - 185 records added from interval of size 274. Commit automatically created by curator.',\n",
       "  'created_at': 'Mon, 06 Mar 2023 18:12:21 GMT',\n",
       "  'created_by': '844c1123-7615-40e1-9eaa-d8f41c6f8572',\n",
       "  'is_latest_version': False},\n",
       " {'version_id': '268173ad-ed28-48a8-ade7-7e784cb393e4',\n",
       "  'dataset': 'casey-gec-test-new-account-curator-7346948',\n",
       "  'message': 'Added Gantry data from model casey-gec-test from start time 2022-04-05T00:00:00 to end time 2022-04-06T00:00:00 - 242 records added from interval of size 300. Commit automatically created by curator.',\n",
       "  'created_at': 'Mon, 06 Mar 2023 18:12:20 GMT',\n",
       "  'created_by': '844c1123-7615-40e1-9eaa-d8f41c6f8572',\n",
       "  'is_latest_version': False},\n",
       " {'version_id': '1bc86cdb-0252-448a-8d2d-baccbd8d6782',\n",
       "  'dataset': 'casey-gec-test-new-account-curator-7346948',\n",
       "  'message': 'Added Gantry data from model casey-gec-test from start time 2022-04-04T00:00:00 to end time 2022-04-05T00:00:00 - 142 records added from interval of size 193. Commit automatically created by curator.',\n",
       "  'created_at': 'Mon, 06 Mar 2023 18:12:19 GMT',\n",
       "  'created_by': '844c1123-7615-40e1-9eaa-d8f41c6f8572',\n",
       "  'is_latest_version': False},\n",
       " {'version_id': 'b6b64ca8-6a1c-47ac-a148-1242a5f9da60',\n",
       "  'dataset': 'casey-gec-test-new-account-curator-7346948',\n",
       "  'message': 'Added Gantry data from model casey-gec-test from start time 2022-04-03T00:00:00 to end time 2022-04-04T00:00:00 - 125 records added from interval of size 174. Commit automatically created by curator.',\n",
       "  'created_at': 'Mon, 06 Mar 2023 18:12:18 GMT',\n",
       "  'created_by': '844c1123-7615-40e1-9eaa-d8f41c6f8572',\n",
       "  'is_latest_version': False},\n",
       " {'version_id': '1eb5e38d-7ac1-452f-8834-4376545768c8',\n",
       "  'dataset': 'casey-gec-test-new-account-curator-7346948',\n",
       "  'message': 'Added Gantry data from model casey-gec-test from start time 2022-04-02T00:00:00 to end time 2022-04-03T00:00:00 - 89 records added from interval of size 120. Commit automatically created by curator.',\n",
       "  'created_at': 'Mon, 06 Mar 2023 18:12:18 GMT',\n",
       "  'created_by': '844c1123-7615-40e1-9eaa-d8f41c6f8572',\n",
       "  'is_latest_version': False},\n",
       " {'version_id': 'a4840841-28f2-4ee3-af9f-6cf591be260a',\n",
       "  'dataset': 'casey-gec-test-new-account-curator-7346948',\n",
       "  'message': 'Added Gantry data from model casey-gec-test from start time 2022-04-01T00:00:00 to end time 2022-04-02T00:00:00 - 52 records added from interval of size 96. Commit automatically created by curator.',\n",
       "  'created_at': 'Mon, 06 Mar 2023 18:12:17 GMT',\n",
       "  'created_by': '844c1123-7615-40e1-9eaa-d8f41c6f8572',\n",
       "  'is_latest_version': False},\n",
       " {'version_id': 'd2ac1971-b1f8-4284-94ce-2893f6377d35',\n",
       "  'dataset': 'casey-gec-test-new-account-curator-7346948',\n",
       "  'message': 'initial dataset commit',\n",
       "  'created_at': 'Mon, 06 Mar 2023 18:12:05 GMT',\n",
       "  'created_by': '844c1123-7615-40e1-9eaa-d8f41c6f8572',\n",
       "  'is_latest_version': False}]"
      ]
     },
     "execution_count": 9,
     "metadata": {},
     "output_type": "execute_result"
    }
   ],
   "source": [
    "dataset = new_accounts_curator.get_curated_dataset()\n",
    "dataset.list_versions()"
   ]
  },
  {
   "attachments": {},
   "cell_type": "markdown",
   "metadata": {},
   "source": [
    "Now that we have seen how curators can make it easy to tell Gantry what data you want to gather, and let Gantry take care of gathering it, let's dive into datasets.\n",
    "\n",
    "### Datasets\n",
    "Gantry datasets are a lightweight container for your data with simple versioning semantics that aim to make it straightforward to build more robust ML pipelines. Versioning is at the file level, and centers on two operations: `push` and `pull`. Curators `push` data to Gantry Datasets. Users `pull` data from them to analyze, label, or train on. Users can also make local modifications to datasets, and `push` them back. All `push` operations create a new version, and each version is written to underlying S3 storage. You can read about datasets in more detail in the [Datasets guide](https://docs.gantry.io/docs/datasets).\n",
    "\n",
    "Let's pull the latest version of the dataset from our curator:"
   ]
  },
  {
   "cell_type": "code",
   "execution_count": 10,
   "metadata": {
    "tags": []
   },
   "outputs": [
    {
     "data": {
      "text/plain": [
       "{'version_id': 'eeecaae4-ef2a-4a6a-bc1d-751da986f478',\n",
       " 'dataset': 'casey-gec-test-new-account-curator-7346948',\n",
       " 'message': 'Added Gantry data from model casey-gec-test from start time 2022-04-30T00:00:00 to end time 2022-05-01T00:00:00 - 68 records added from interval of size 1479. Commit automatically created by curator.',\n",
       " 'created_at': 'Mon, 06 Mar 2023 18:12:40 GMT',\n",
       " 'created_by': '844c1123-7615-40e1-9eaa-d8f41c6f8572',\n",
       " 'is_latest_version': True}"
      ]
     },
     "execution_count": 10,
     "metadata": {},
     "output_type": "execute_result"
    }
   ],
   "source": [
    "dataset.pull()"
   ]
  },
  {
   "attachments": {},
   "cell_type": "markdown",
   "metadata": {},
   "source": [
    "Gantry datasets can be loaded them directly into HuggingFace Datasets, which can in turn be turned into Pandas DataFrame objects. All the type mappings are handled by the integration:"
   ]
  },
  {
   "cell_type": "code",
   "execution_count": 11,
   "metadata": {
    "tags": []
   },
   "outputs": [
    {
     "name": "stdout",
     "output_type": "stream",
     "text": [
      "Downloading and preparing dataset caseygectestnewaccountcurator7346948/default to /Users/casey/.cache/huggingface/datasets/caseygectestnewaccountcurator7346948/default/1.0.0/20ef1ae868fe33bff85703eaa9b5d6d7125e6a7096b977002b71b90f98886dc5...\n"
     ]
    },
    {
     "name": "stderr",
     "output_type": "stream",
     "text": [
      "Downloading data files: 100%|██████████| 1/1 [00:00<00:00, 409.36it/s]\n",
      "Extracting data files: 100%|████████████| 1/1 [00:00<00:00, 41.50it/s]\n",
      "                                                                  \r"
     ]
    },
    {
     "name": "stdout",
     "output_type": "stream",
     "text": [
      "Dataset caseygectestnewaccountcurator7346948 downloaded and prepared to /Users/casey/.cache/huggingface/datasets/caseygectestnewaccountcurator7346948/default/1.0.0/20ef1ae868fe33bff85703eaa9b5d6d7125e6a7096b977002b71b90f98886dc5. Subsequent calls will reuse this data.\n"
     ]
    }
   ],
   "source": [
    "hfds = dataset.get_huggingface_dataset()\n",
    "df = hfds.to_pandas()"
   ]
  },
  {
   "cell_type": "code",
   "execution_count": 12,
   "metadata": {
    "tags": []
   },
   "outputs": [
    {
     "data": {
      "text/html": [
       "<div>\n",
       "<style scoped>\n",
       "    .dataframe tbody tr th:only-of-type {\n",
       "        vertical-align: middle;\n",
       "    }\n",
       "\n",
       "    .dataframe tbody tr th {\n",
       "        vertical-align: top;\n",
       "    }\n",
       "\n",
       "    .dataframe thead th {\n",
       "        text-align: right;\n",
       "    }\n",
       "</style>\n",
       "<table border=\"1\" class=\"dataframe\">\n",
       "  <thead>\n",
       "    <tr style=\"text-align: right;\">\n",
       "      <th></th>\n",
       "      <th>__time</th>\n",
       "      <th>inputs.account_age_days</th>\n",
       "      <th>inputs.text</th>\n",
       "      <th>outputs.inference</th>\n",
       "      <th>feedback.correction_accepted</th>\n",
       "    </tr>\n",
       "  </thead>\n",
       "  <tbody>\n",
       "    <tr>\n",
       "      <th>0</th>\n",
       "      <td>2022-04-24 04:06:46+00:00</td>\n",
       "      <td>1</td>\n",
       "      <td>“They say these are old abandoned hotel buildi...</td>\n",
       "      <td>“They say these are old abandoned hotel buildi...</td>\n",
       "      <td>False</td>\n",
       "    </tr>\n",
       "    <tr>\n",
       "      <th>1</th>\n",
       "      <td>2022-04-24 22:11:50+00:00</td>\n",
       "      <td>1</td>\n",
       "      <td>[CLOSED - Winner @britmdee] A New Home for a N...</td>\n",
       "      <td>[CLOSED - Winner @britmdee] A New Home for a N...</td>\n",
       "      <td>False</td>\n",
       "    </tr>\n",
       "    <tr>\n",
       "      <th>2</th>\n",
       "      <td>2022-04-24 09:00:00+00:00</td>\n",
       "      <td>1</td>\n",
       "      <td>Marvel Studios' Thor: Love and Thunder arrives...</td>\n",
       "      <td>Marvel Studios' Thor: Love and Thunder arrives...</td>\n",
       "      <td>False</td>\n",
       "    </tr>\n",
       "    <tr>\n",
       "      <th>3</th>\n",
       "      <td>2022-04-24 06:13:52+00:00</td>\n",
       "      <td>1</td>\n",
       "      <td>Best enjoyed with a cheer #socialiseresponsibl...</td>\n",
       "      <td>Best enjoyed with a cheer #socialiseresponsibl...</td>\n",
       "      <td>True</td>\n",
       "    </tr>\n",
       "    <tr>\n",
       "      <th>4</th>\n",
       "      <td>2022-04-24 19:00:00+00:00</td>\n",
       "      <td>1</td>\n",
       "      <td>A FLOWERING BUSH NATIVE TO MEXICO. LONG-REVERE...</td>\n",
       "      <td>A FLOWERING BUSH NATIVE TO MEXICO. LONG-REVERE...</td>\n",
       "      <td>False</td>\n",
       "    </tr>\n",
       "    <tr>\n",
       "      <th>...</th>\n",
       "      <td>...</td>\n",
       "      <td>...</td>\n",
       "      <td>...</td>\n",
       "      <td>...</td>\n",
       "      <td>...</td>\n",
       "    </tr>\n",
       "    <tr>\n",
       "      <th>11136</th>\n",
       "      <td>2022-04-27 02:00:19+00:00</td>\n",
       "      <td>6</td>\n",
       "      <td>🎶 GINgle Bells, GINgle bells, Gin &amp; Fun all th...</td>\n",
       "      <td>GINgle Bells, GINgle Bells, Gin &amp; Fun all the...</td>\n",
       "      <td>True</td>\n",
       "    </tr>\n",
       "    <tr>\n",
       "      <th>11137</th>\n",
       "      <td>2022-04-27 00:21:48+00:00</td>\n",
       "      <td>6</td>\n",
       "      <td>Santé! Toast with something special this year!...</td>\n",
       "      <td>Santé! Toast with something special this year!...</td>\n",
       "      <td>True</td>\n",
       "    </tr>\n",
       "    <tr>\n",
       "      <th>11138</th>\n",
       "      <td>2022-04-27 15:00:00+00:00</td>\n",
       "      <td>6</td>\n",
       "      <td>We’ve gathered our friends, packed a basket an...</td>\n",
       "      <td>We’ve gathered our friends, packed a basket an...</td>\n",
       "      <td>True</td>\n",
       "    </tr>\n",
       "    <tr>\n",
       "      <th>11139</th>\n",
       "      <td>2022-04-27 07:21:56+00:00</td>\n",
       "      <td>6</td>\n",
       "      <td>Did you know our cinnamon rolls take over 4 da...</td>\n",
       "      <td>Did you know our cinnamon rolls take over 4 da...</td>\n",
       "      <td>True</td>\n",
       "    </tr>\n",
       "    <tr>\n",
       "      <th>11140</th>\n",
       "      <td>2022-04-27 01:35:56+00:00</td>\n",
       "      <td>6</td>\n",
       "      <td>Well these have been popular 😳 We’ve been dipp...</td>\n",
       "      <td>Well these have been popular  We’ve been dippi...</td>\n",
       "      <td>True</td>\n",
       "    </tr>\n",
       "  </tbody>\n",
       "</table>\n",
       "<p>11141 rows × 5 columns</p>\n",
       "</div>"
      ],
      "text/plain": [
       "                         __time  inputs.account_age_days  \\\n",
       "0     2022-04-24 04:06:46+00:00                        1   \n",
       "1     2022-04-24 22:11:50+00:00                        1   \n",
       "2     2022-04-24 09:00:00+00:00                        1   \n",
       "3     2022-04-24 06:13:52+00:00                        1   \n",
       "4     2022-04-24 19:00:00+00:00                        1   \n",
       "...                         ...                      ...   \n",
       "11136 2022-04-27 02:00:19+00:00                        6   \n",
       "11137 2022-04-27 00:21:48+00:00                        6   \n",
       "11138 2022-04-27 15:00:00+00:00                        6   \n",
       "11139 2022-04-27 07:21:56+00:00                        6   \n",
       "11140 2022-04-27 01:35:56+00:00                        6   \n",
       "\n",
       "                                             inputs.text  \\\n",
       "0      “They say these are old abandoned hotel buildi...   \n",
       "1      [CLOSED - Winner @britmdee] A New Home for a N...   \n",
       "2      Marvel Studios' Thor: Love and Thunder arrives...   \n",
       "3      Best enjoyed with a cheer #socialiseresponsibl...   \n",
       "4      A FLOWERING BUSH NATIVE TO MEXICO. LONG-REVERE...   \n",
       "...                                                  ...   \n",
       "11136  🎶 GINgle Bells, GINgle bells, Gin & Fun all th...   \n",
       "11137  Santé! Toast with something special this year!...   \n",
       "11138  We’ve gathered our friends, packed a basket an...   \n",
       "11139  Did you know our cinnamon rolls take over 4 da...   \n",
       "11140  Well these have been popular 😳 We’ve been dipp...   \n",
       "\n",
       "                                       outputs.inference  \\\n",
       "0      “They say these are old abandoned hotel buildi...   \n",
       "1      [CLOSED - Winner @britmdee] A New Home for a N...   \n",
       "2      Marvel Studios' Thor: Love and Thunder arrives...   \n",
       "3      Best enjoyed with a cheer #socialiseresponsibl...   \n",
       "4      A FLOWERING BUSH NATIVE TO MEXICO. LONG-REVERE...   \n",
       "...                                                  ...   \n",
       "11136   GINgle Bells, GINgle Bells, Gin & Fun all the...   \n",
       "11137  Santé! Toast with something special this year!...   \n",
       "11138  We’ve gathered our friends, packed a basket an...   \n",
       "11139  Did you know our cinnamon rolls take over 4 da...   \n",
       "11140  Well these have been popular  We’ve been dippi...   \n",
       "\n",
       "       feedback.correction_accepted  \n",
       "0                             False  \n",
       "1                             False  \n",
       "2                             False  \n",
       "3                              True  \n",
       "4                             False  \n",
       "...                             ...  \n",
       "11136                          True  \n",
       "11137                          True  \n",
       "11138                          True  \n",
       "11139                          True  \n",
       "11140                          True  \n",
       "\n",
       "[11141 rows x 5 columns]"
      ]
     },
     "execution_count": 12,
     "metadata": {},
     "output_type": "execute_result"
    }
   ],
   "source": [
    "df"
   ]
  },
  {
   "attachments": {},
   "cell_type": "markdown",
   "metadata": {},
   "source": [
    "We can now analyze, train on, or label this dataset. If we want to do manual data manipulation, we can modify it and push a new version back to Gantry."
   ]
  }
 ],
 "metadata": {
  "kernelspec": {
   "display_name": "Python 3 (ipykernel)",
   "language": "python",
   "name": "python3"
  },
  "language_info": {
   "codemirror_mode": {
    "name": "ipython",
    "version": 3
   },
   "file_extension": ".py",
   "mimetype": "text/x-python",
   "name": "python",
   "nbconvert_exporter": "python",
   "pygments_lexer": "ipython3",
   "version": "3.10.10"
  },
  "vscode": {
   "interpreter": {
    "hash": "a3df6fd0f7e696005f34938b19f6cb395601341b0ef69ce9e9b6aaa77428e11a"
   }
  }
 },
 "nbformat": 4,
 "nbformat_minor": 4
}
