{
 "cells": [
  {
   "attachments": {},
   "cell_type": "markdown",
   "metadata": {},
   "source": [
    "## Data Curation Example: Newer Accounts\n",
    "\n",
    "This notebook is designed to demonstrate how to use Gantry to seamlessly transform the production data that is flowing into Gantry into training sets. The goal of datasets and curators is to allow users to tell Gantry _what_ they want, something that requires judgment and domain expertise, and let Gantry take care of the _how_. That includes all the messiness of managing reliable jobs that trans production streams into versioned datasets."
   ]
  },
  {
   "cell_type": "code",
   "execution_count": null,
<<<<<<< HEAD
   "metadata": {},
=======
   "metadata": {
    "tags": []
   },
>>>>>>> 86ae8fb4e32d51080ee07c92b5192ce5e16649c1
   "outputs": [],
   "source": [
    "from config import GantryConfig, DataStorageConfig\n",
    "import gantry\n",
    "import datetime\n",
    "import random"
   ]
  },
  {
   "cell_type": "code",
   "execution_count": null,
<<<<<<< HEAD
   "metadata": {},
=======
   "metadata": {
    "tags": []
   },
>>>>>>> 86ae8fb4e32d51080ee07c92b5192ce5e16649c1
   "outputs": [],
   "source": [
    "gantry.init(api_key=GantryConfig.GANTRY_API_KEY)\n",
    "\n",
    "assert gantry.ping()"
   ]
  },
  {
   "cell_type": "code",
   "execution_count": null,
   "metadata": {},
   "outputs": [],
   "source": [
    "from gantry.curators import BoundedRangeCurator\n",
    "\n",
    "new_accounts_curator_name = f\"{GantryConfig.GANTRY_APP_NAME}-new-account-curator-{str(random.randrange(0, 10000001))}\"\n",
    "\n",
    "new_accounts_curator = BoundedRangeCurator(\n",
    "    name=new_accounts_curator_name,\n",
    "    application_name=GantryConfig.GANTRY_APP_NAME,\n",
    "    limit=1000,\n",
    "    bound_field=\"inputs.account_age_days\",\n",
    "    lower_bound=0,\n",
    "    upper_bound=7,\n",
    "    start_on=DataStorageConfig.MIN_DATE,\n",
    "    curation_interval=datetime.timedelta(days=1)\n",
    ")\n",
    "\n",
    "new_accounts_curator.create()"
   ]
  },
  {
<<<<<<< HEAD
   "cell_type": "code",
   "execution_count": null,
   "metadata": {},
   "outputs": [],
=======
   "attachments": {},
   "cell_type": "markdown",
   "metadata": {},
>>>>>>> 86ae8fb4e32d51080ee07c92b5192ce5e16649c1
   "source": [
    "A few things to note here:\n",
    "- We provide the application name to tie this curator to the associated application\n",
    "- We use `GantryConfig` and `DataStorageConfig` to grab some configurations, like the earliest timestamp of the data which will trigger Gantry to backfill all of the intervals between that date and now\n",
    "- We use the `BoundedRangeCurator` because it makes it easy to specify a curator according the bounds on a field, namely `account_age_days`\n",
    "- We choose the, somewhat arbitrary, limit of 1000 records to represent our daily labeling budget\n",
    "\n",
    "This curator tells Gantry how to marshall your data into versions in a **dataset**.\n",
    "\n",
    "The following code will do two things for us:\n",
    "1. Grab the dataset that our curator populating.\n",
    "2. List the versions in the dataset. Each version represents a historical interval (in this case day) of data. Listing the versions makes the relationship between curators and datasets explicit: as curator jobs run, one for each interval, they create versions of a dataset. The versions contain metadata about what fraction of the specified limit is being met, as you can see below in the format: `x records added from interval of size y`"
   ]
  },
  {
   "cell_type": "code",
   "execution_count": null,
   "metadata": {},
   "outputs": [],
   "source": [
    "dataset = new_accounts_curator.get_curated_dataset()\n",
    "dataset.list_versions()"
   ]
  },
  {
   "attachments": {},
   "cell_type": "markdown",
   "metadata": {},
   "source": [
    "Now that we have seen how curators can make it easy to tell Gantry what data you want to gather, and let Gantry take care of gathering it, let's dive into datasets.\n",
    "\n",
    "### Datasets\n",
    "Gantry datasets are a lightweight container for your data with simple versioning semantics that aim to make it straightforward to build more robust ML pipelines. Versioning is at the file level, and centers on two operations: `push` and `pull`. Curators `push` data to Gantry Datasets. Users `pull` data from them to analyze, label, or train on. Users can also make local modifications to datasets, and `push` them back. All `push` operations create a new version, and each version is written to underlying S3 storage. You can read about datasets in more detail in the [Datasets guide](https://docs.gantry.io/docs/datasets).\n",
    "\n",
    "Let's pull the latest version of the dataset from our curator:"
   ]
  },
  {
   "cell_type": "code",
<<<<<<< HEAD
   "execution_count": null,
   "metadata": {},
   "outputs": [],
   "source": [
    "dataset.pull()"
   ]
  },
  {
   "cell_type": "code",
   "execution_count": null,
   "metadata": {},
   "outputs": [],
   "source": [
    "hfds = dataset.get_huggingface_dataset()\n",
    "df = hfds.to_pandas()"
   ]
  },
  {
   "cell_type": "code",
   "execution_count": null,
   "metadata": {},
   "outputs": [],
   "source": [
    "df"
=======
   "execution_count": 10,
   "metadata": {
    "tags": []
   },
   "outputs": [
    {
     "data": {
      "text/plain": [
       "{'version_id': 'eeecaae4-ef2a-4a6a-bc1d-751da986f478',\n",
       " 'dataset': 'casey-gec-test-new-account-curator-7346948',\n",
       " 'message': 'Added Gantry data from model casey-gec-test from start time 2022-04-30T00:00:00 to end time 2022-05-01T00:00:00 - 68 records added from interval of size 1479. Commit automatically created by curator.',\n",
       " 'created_at': 'Mon, 06 Mar 2023 18:12:40 GMT',\n",
       " 'created_by': '844c1123-7615-40e1-9eaa-d8f41c6f8572',\n",
       " 'is_latest_version': True}"
      ]
     },
     "execution_count": 10,
     "metadata": {},
     "output_type": "execute_result"
    }
   ],
   "source": [
    "dataset.pull()"
   ]
  },
  {
   "attachments": {},
   "cell_type": "markdown",
   "metadata": {},
   "source": [
    "Gantry datasets can be loaded them directly into HuggingFace Datasets, which can in turn be turned into Pandas DataFrame objects. All the type mappings are handled by the integration:"
   ]
  },
  {
   "cell_type": "code",
   "execution_count": 11,
   "metadata": {
    "tags": []
   },
   "outputs": [
    {
     "name": "stdout",
     "output_type": "stream",
     "text": [
      "Downloading and preparing dataset caseygectestnewaccountcurator7346948/default to /Users/casey/.cache/huggingface/datasets/caseygectestnewaccountcurator7346948/default/1.0.0/20ef1ae868fe33bff85703eaa9b5d6d7125e6a7096b977002b71b90f98886dc5...\n"
     ]
    },
    {
     "name": "stderr",
     "output_type": "stream",
     "text": [
      "Downloading data files: 100%|██████████| 1/1 [00:00<00:00, 409.36it/s]\n",
      "Extracting data files: 100%|████████████| 1/1 [00:00<00:00, 41.50it/s]\n",
      "                                                                  \r"
     ]
    },
    {
     "name": "stdout",
     "output_type": "stream",
     "text": [
      "Dataset caseygectestnewaccountcurator7346948 downloaded and prepared to /Users/casey/.cache/huggingface/datasets/caseygectestnewaccountcurator7346948/default/1.0.0/20ef1ae868fe33bff85703eaa9b5d6d7125e6a7096b977002b71b90f98886dc5. Subsequent calls will reuse this data.\n"
     ]
    }
   ],
   "source": [
    "hfds = dataset.get_huggingface_dataset()\n",
    "df = hfds.to_pandas()"
   ]
  },
  {
   "cell_type": "code",
   "execution_count": 12,
   "metadata": {
    "tags": []
   },
   "outputs": [
    {
     "data": {
      "text/html": [
       "<div>\n",
       "<style scoped>\n",
       "    .dataframe tbody tr th:only-of-type {\n",
       "        vertical-align: middle;\n",
       "    }\n",
       "\n",
       "    .dataframe tbody tr th {\n",
       "        vertical-align: top;\n",
       "    }\n",
       "\n",
       "    .dataframe thead th {\n",
       "        text-align: right;\n",
       "    }\n",
       "</style>\n",
       "<table border=\"1\" class=\"dataframe\">\n",
       "  <thead>\n",
       "    <tr style=\"text-align: right;\">\n",
       "      <th></th>\n",
       "      <th>__time</th>\n",
       "      <th>inputs.account_age_days</th>\n",
       "      <th>inputs.text</th>\n",
       "      <th>outputs.inference</th>\n",
       "      <th>feedback.correction_accepted</th>\n",
       "    </tr>\n",
       "  </thead>\n",
       "  <tbody>\n",
       "    <tr>\n",
       "      <th>0</th>\n",
       "      <td>2022-04-24 04:06:46+00:00</td>\n",
       "      <td>1</td>\n",
       "      <td>“They say these are old abandoned hotel buildi...</td>\n",
       "      <td>“They say these are old abandoned hotel buildi...</td>\n",
       "      <td>False</td>\n",
       "    </tr>\n",
       "    <tr>\n",
       "      <th>1</th>\n",
       "      <td>2022-04-24 22:11:50+00:00</td>\n",
       "      <td>1</td>\n",
       "      <td>[CLOSED - Winner @britmdee] A New Home for a N...</td>\n",
       "      <td>[CLOSED - Winner @britmdee] A New Home for a N...</td>\n",
       "      <td>False</td>\n",
       "    </tr>\n",
       "    <tr>\n",
       "      <th>2</th>\n",
       "      <td>2022-04-24 09:00:00+00:00</td>\n",
       "      <td>1</td>\n",
       "      <td>Marvel Studios' Thor: Love and Thunder arrives...</td>\n",
       "      <td>Marvel Studios' Thor: Love and Thunder arrives...</td>\n",
       "      <td>False</td>\n",
       "    </tr>\n",
       "    <tr>\n",
       "      <th>3</th>\n",
       "      <td>2022-04-24 06:13:52+00:00</td>\n",
       "      <td>1</td>\n",
       "      <td>Best enjoyed with a cheer #socialiseresponsibl...</td>\n",
       "      <td>Best enjoyed with a cheer #socialiseresponsibl...</td>\n",
       "      <td>True</td>\n",
       "    </tr>\n",
       "    <tr>\n",
       "      <th>4</th>\n",
       "      <td>2022-04-24 19:00:00+00:00</td>\n",
       "      <td>1</td>\n",
       "      <td>A FLOWERING BUSH NATIVE TO MEXICO. LONG-REVERE...</td>\n",
       "      <td>A FLOWERING BUSH NATIVE TO MEXICO. LONG-REVERE...</td>\n",
       "      <td>False</td>\n",
       "    </tr>\n",
       "    <tr>\n",
       "      <th>...</th>\n",
       "      <td>...</td>\n",
       "      <td>...</td>\n",
       "      <td>...</td>\n",
       "      <td>...</td>\n",
       "      <td>...</td>\n",
       "    </tr>\n",
       "    <tr>\n",
       "      <th>11136</th>\n",
       "      <td>2022-04-27 02:00:19+00:00</td>\n",
       "      <td>6</td>\n",
       "      <td>🎶 GINgle Bells, GINgle bells, Gin &amp; Fun all th...</td>\n",
       "      <td>GINgle Bells, GINgle Bells, Gin &amp; Fun all the...</td>\n",
       "      <td>True</td>\n",
       "    </tr>\n",
       "    <tr>\n",
       "      <th>11137</th>\n",
       "      <td>2022-04-27 00:21:48+00:00</td>\n",
       "      <td>6</td>\n",
       "      <td>Santé! Toast with something special this year!...</td>\n",
       "      <td>Santé! Toast with something special this year!...</td>\n",
       "      <td>True</td>\n",
       "    </tr>\n",
       "    <tr>\n",
       "      <th>11138</th>\n",
       "      <td>2022-04-27 15:00:00+00:00</td>\n",
       "      <td>6</td>\n",
       "      <td>We’ve gathered our friends, packed a basket an...</td>\n",
       "      <td>We’ve gathered our friends, packed a basket an...</td>\n",
       "      <td>True</td>\n",
       "    </tr>\n",
       "    <tr>\n",
       "      <th>11139</th>\n",
       "      <td>2022-04-27 07:21:56+00:00</td>\n",
       "      <td>6</td>\n",
       "      <td>Did you know our cinnamon rolls take over 4 da...</td>\n",
       "      <td>Did you know our cinnamon rolls take over 4 da...</td>\n",
       "      <td>True</td>\n",
       "    </tr>\n",
       "    <tr>\n",
       "      <th>11140</th>\n",
       "      <td>2022-04-27 01:35:56+00:00</td>\n",
       "      <td>6</td>\n",
       "      <td>Well these have been popular 😳 We’ve been dipp...</td>\n",
       "      <td>Well these have been popular  We’ve been dippi...</td>\n",
       "      <td>True</td>\n",
       "    </tr>\n",
       "  </tbody>\n",
       "</table>\n",
       "<p>11141 rows × 5 columns</p>\n",
       "</div>"
      ],
      "text/plain": [
       "                         __time  inputs.account_age_days  \\\n",
       "0     2022-04-24 04:06:46+00:00                        1   \n",
       "1     2022-04-24 22:11:50+00:00                        1   \n",
       "2     2022-04-24 09:00:00+00:00                        1   \n",
       "3     2022-04-24 06:13:52+00:00                        1   \n",
       "4     2022-04-24 19:00:00+00:00                        1   \n",
       "...                         ...                      ...   \n",
       "11136 2022-04-27 02:00:19+00:00                        6   \n",
       "11137 2022-04-27 00:21:48+00:00                        6   \n",
       "11138 2022-04-27 15:00:00+00:00                        6   \n",
       "11139 2022-04-27 07:21:56+00:00                        6   \n",
       "11140 2022-04-27 01:35:56+00:00                        6   \n",
       "\n",
       "                                             inputs.text  \\\n",
       "0      “They say these are old abandoned hotel buildi...   \n",
       "1      [CLOSED - Winner @britmdee] A New Home for a N...   \n",
       "2      Marvel Studios' Thor: Love and Thunder arrives...   \n",
       "3      Best enjoyed with a cheer #socialiseresponsibl...   \n",
       "4      A FLOWERING BUSH NATIVE TO MEXICO. LONG-REVERE...   \n",
       "...                                                  ...   \n",
       "11136  🎶 GINgle Bells, GINgle bells, Gin & Fun all th...   \n",
       "11137  Santé! Toast with something special this year!...   \n",
       "11138  We’ve gathered our friends, packed a basket an...   \n",
       "11139  Did you know our cinnamon rolls take over 4 da...   \n",
       "11140  Well these have been popular 😳 We’ve been dipp...   \n",
       "\n",
       "                                       outputs.inference  \\\n",
       "0      “They say these are old abandoned hotel buildi...   \n",
       "1      [CLOSED - Winner @britmdee] A New Home for a N...   \n",
       "2      Marvel Studios' Thor: Love and Thunder arrives...   \n",
       "3      Best enjoyed with a cheer #socialiseresponsibl...   \n",
       "4      A FLOWERING BUSH NATIVE TO MEXICO. LONG-REVERE...   \n",
       "...                                                  ...   \n",
       "11136   GINgle Bells, GINgle Bells, Gin & Fun all the...   \n",
       "11137  Santé! Toast with something special this year!...   \n",
       "11138  We’ve gathered our friends, packed a basket an...   \n",
       "11139  Did you know our cinnamon rolls take over 4 da...   \n",
       "11140  Well these have been popular  We’ve been dippi...   \n",
       "\n",
       "       feedback.correction_accepted  \n",
       "0                             False  \n",
       "1                             False  \n",
       "2                             False  \n",
       "3                              True  \n",
       "4                             False  \n",
       "...                             ...  \n",
       "11136                          True  \n",
       "11137                          True  \n",
       "11138                          True  \n",
       "11139                          True  \n",
       "11140                          True  \n",
       "\n",
       "[11141 rows x 5 columns]"
      ]
     },
     "execution_count": 12,
     "metadata": {},
     "output_type": "execute_result"
    }
   ],
   "source": [
    "df"
   ]
  },
  {
   "attachments": {},
   "cell_type": "markdown",
   "metadata": {},
   "source": [
    "We can now analyze, train on, or label this dataset. If we want to do manual data manipulation, we can modify it and push a new version back to Gantry."
>>>>>>> 86ae8fb4e32d51080ee07c92b5192ce5e16649c1
   ]
  }
 ],
 "metadata": {
  "kernelspec": {
   "display_name": "venv",
   "language": "python",
   "name": "python3"
  },
  "language_info": {
   "codemirror_mode": {
    "name": "ipython",
    "version": 3
   },
   "file_extension": ".py",
   "mimetype": "text/x-python",
   "name": "python",
   "nbconvert_exporter": "python",
   "pygments_lexer": "ipython3",
<<<<<<< HEAD
   "version": "3.9.12"
=======
   "version": "3.10.10"
>>>>>>> 86ae8fb4e32d51080ee07c92b5192ce5e16649c1
  },
  "orig_nbformat": 4,
  "vscode": {
   "interpreter": {
    "hash": "a3df6fd0f7e696005f34938b19f6cb395601341b0ef69ce9e9b6aaa77428e11a"
   }
  }
 },
 "nbformat": 4,
 "nbformat_minor": 2
}
