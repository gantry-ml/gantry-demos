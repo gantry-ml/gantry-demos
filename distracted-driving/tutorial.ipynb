{
 "cells": [
  {
   "cell_type": "markdown",
   "id": "91a899b5-5843-4fa2-b9c9-33aa398de132",
   "metadata": {
    "tags": []
   },
   "source": [
    "# Logging data and predictions\n",
    "\n",
    "Let's assume we have already run our model on some images and have the predictions handy.\n",
    "Our inputs have some metadata like latitude, longitude, speed, and temperature.\n",
    "Our inputs also include the address of our images in S3. Images loaded to Gantry must be\n",
    "coming from an S3 or GCS bucket. Including the S3 URI tells Gantry where to find the\n",
    "image."
   ]
  },
  {
   "cell_type": "code",
   "execution_count": null,
   "id": "bf18a74b-4815-4d02-9529-b90df7a152dc",
   "metadata": {
    "tags": []
   },
   "outputs": [],
   "source": [
    "import gantry\n",
    "import gantry.query as gquery\n",
    "from dotenv import dotenv_values\n",
    "import os\n",
    "from pathlib import Path\n",
    "import pandas as pd\n",
    "\n",
    "config = dotenv_values(\".env\")\n",
    "gantry.init(api_key=config.get(\"GANTRY_API_KEY\"))\n",
    "GANTRY_APPLICATION = config.get(\"GANTRY_APP_NAME\")"
   ]
  },
  {
   "cell_type": "code",
   "execution_count": null,
   "id": "bb420975-2a21-4ba3-b30f-aa2156564dbd",
   "metadata": {
    "tags": []
   },
   "outputs": [],
   "source": [
    "inputs = pd.read_csv( \n",
    "     \"https://gantry-demo-data.s3.us-west-2.amazonaws.com/distracted-driving-detection/data/inputs.csv\", \n",
    "     engine=\"c\", \n",
    "     lineterminator=\"\\n\", \n",
    ")\n",
    "inputs"
   ]
  },
  {
   "cell_type": "markdown",
   "id": "7481b3c3-d2dd-4be8-aa3c-9e2d1ab21796",
   "metadata": {},
   "source": [
    "Our outputs contain the label output by the model."
   ]
  },
  {
   "cell_type": "code",
   "execution_count": null,
   "id": "fc6678b7-69dc-4c61-8b43-aaf5253303c4",
   "metadata": {
    "tags": []
   },
   "outputs": [],
   "source": [
    "outputs = pd.read_csv( \n",
    "     \"https://gantry-demo-data.s3.us-west-2.amazonaws.com/distracted-driving-detection/data/outputs.csv\", \n",
    "     engine=\"c\", \n",
    "     lineterminator=\"\\n\", \n",
    ")\n",
    "outputs"
   ]
  },
  {
   "cell_type": "markdown",
   "id": "f72677dd-f0d6-4b7d-bfe9-4166d3a029db",
   "metadata": {
    "tags": []
   },
   "source": [
    "We also will specify the `join_keys` as the image address in S3. By doing this instead of letting Gantry auto assign a random join_key, we're able to more easily match the feedback with the image it corresponds to."
   ]
  },
  {
   "cell_type": "code",
   "execution_count": null,
   "id": "63420940-62cf-4bb2-82c9-70081d8a90c6",
   "metadata": {
    "tags": []
   },
   "outputs": [],
   "source": [
    "join_keys = pd.read_csv( \n",
    "     \"https://gantry-demo-data.s3.us-west-2.amazonaws.com/distracted-driving-detection/data/join_keys.csv\", \n",
    "     engine=\"c\", \n",
    "     lineterminator=\"\\n\", \n",
    ")\n",
    "join_keys = join_keys['join_keys'].values.tolist()\n",
    "join_keys[0]"
   ]
  },
  {
   "cell_type": "markdown",
   "id": "ee4f4389-4699-4956-9b01-f191da816390",
   "metadata": {},
   "source": [
    "The following code logs all this information to our Gantry application. Note that we'll also give Gantry some metadata like the model version. This will allow us to compare the data across versions if we were to improve and redeploy our model."
   ]
  },
  {
   "cell_type": "code",
   "execution_count": null,
   "id": "f6aca36b-cf8a-45c7-89a1-5e202d8d0efd",
   "metadata": {
    "tags": []
   },
   "outputs": [],
   "source": [
    "gantry.log_records(GANTRY_APPLICATION, inputs=inputs,outputs=outputs,join_keys=join_keys,as_batch=True, tags={\"model_version\": \"v0\"})"
   ]
  },
  {
   "cell_type": "markdown",
   "id": "1a2d77f7-2192-42f8-9b08-7b38d3a00a40",
   "metadata": {},
   "source": [
    "Say we spent some time going through the images and labeling them all individually. We can then send that feedback to Gantry as well, with the same `join_keys` to let Gantry know how to match the feedback with the original prediction."
   ]
  },
  {
   "cell_type": "code",
   "execution_count": null,
   "id": "aca15555-392e-4065-a057-e845f3cc0132",
   "metadata": {
    "tags": []
   },
   "outputs": [],
   "source": [
    "feedback = pd.read_csv( \n",
    "     \"https://gantry-demo-data.s3.us-west-2.amazonaws.com/distracted-driving-detection/data/feedback.csv\", \n",
    "     engine=\"c\", \n",
    "     lineterminator=\"\\n\", \n",
    ")\n",
    "feedback"
   ]
  },
  {
   "cell_type": "code",
   "execution_count": null,
   "id": "eb69a8e9-273d-4fea-9d53-7a86b2feac69",
   "metadata": {
    "tags": []
   },
   "outputs": [],
   "source": [
    "gantry.log_records(GANTRY_APPLICATION, feedbacks=feedback, join_keys=join_keys,as_batch=True)"
   ]
  },
  {
   "cell_type": "markdown",
   "id": "476891bd-2269-490f-acf2-cd25815915f2",
   "metadata": {},
   "source": []
  },
  {
   "cell_type": "code",
   "execution_count": null,
   "id": "b93da97b-7398-491d-985f-9c7b8f8ccc85",
   "metadata": {},
   "outputs": [],
   "source": []
  }
 ],
 "metadata": {
  "kernelspec": {
   "display_name": "Python 3 (ipykernel)",
   "language": "python",
   "name": "python3"
  },
  "language_info": {
   "codemirror_mode": {
    "name": "ipython",
    "version": 3
   },
   "file_extension": ".py",
   "mimetype": "text/x-python",
   "name": "python",
   "nbconvert_exporter": "python",
   "pygments_lexer": "ipython3",
   "version": "3.10.10"
  }
 },
 "nbformat": 4,
 "nbformat_minor": 5
}
